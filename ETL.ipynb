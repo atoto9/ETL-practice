{
 "cells": [
  {
   "cell_type": "code",
   "execution_count": null,
   "metadata": {
    "collapsed": true
   },
   "outputs": [],
   "source": [
    "#######匯入\n",
    "import requests\n",
    "import urlparse\n",
    "from bs4 import BeautifulSoup\n",
    "from math import ceil"
   ]
  },
  {
   "cell_type": "code",
   "execution_count": null,
   "metadata": {
    "collapsed": true
   },
   "outputs": [],
   "source": [
    "#######建立session\n",
    "payload = {\n",
    "'method':'search',\n",
    "'searchMethod':'true',\n",
    "'tenderUpdate':'',\n",
    "'searchTarget':'',\n",
    "'orgName':'',\n",
    "'orgId':'',\n",
    "'hid_1':'1',\n",
    "'tenderName':'',\n",
    "'tenderId':'',\n",
    "'tenderType':'tenderDeclaration',\n",
    "'tenderWay':'1,2,3,4,5,6,7,10,12',\n",
    "'tenderDateRadio':'on',\n",
    "'tenderStartDateStr':'105/02/13',\n",
    "'tenderEndDateStr':'105/02/19',\n",
    "'tenderStartDate':'105/02/19',\n",
    "'tenderEndDate':'105/02/19',\n",
    "'isSpdt':'N',\n",
    "'proctrgCate':'3',\n",
    "'radProctrgCate':'3',\n",
    "'btnQuery':'查詢',\n",
    "'hadUpdated':'',\n",
    "}\n",
    "rs = requests.session()\n",
    "user_post = rs.post('http://web.pcc.gov.tw/tps/pss/tender.do?searchMode=common&searchType=basic&method=search&isSpdt=&pageIndex=1',data=payload)\n",
    "response_text = user_post.text.encode('utf8')"
   ]
  },
  {
   "cell_type": "code",
   "execution_count": null,
   "metadata": {
    "collapsed": true
   },
   "outputs": [],
   "source": [
    "#######計算抓取頁數\n",
    "soup = BeautifulSoup(response_text)\n",
    "rec_number_element = soup.select('.T11b')[0].text\n",
    "page_number = int(ceil(float(rec_number_element)/100))\n",
    "print page_number"
   ]
  },
  {
   "cell_type": "code",
   "execution_count": null,
   "metadata": {
    "collapsed": true
   },
   "outputs": [],
   "source": [
    "#######存入每頁標案連結\n",
    "bid_file = open('bid_list.txt','w')\n",
    "page_format = \"http://web.pcc.gov.tw/tps/pss/tender.do?searchMode=common&searchType=basic&method=search&isSpdt=&pageIndex=%d\"\n",
    "###建立第一層迴圈用來翻頁P1~P6\n",
    "for page in range(1, page_number + 1):\n",
    "###進入頁面\n",
    "    bid_list = rs.get(page_format%(page))\n",
    "    bid_response = bid_list.text.encode('utf8')\n",
    "    bid_soup = BeautifulSoup(bid_response)\n",
    "###建立第二層迴圈存入各行連結,第三層迴圈將地址存到link裡面\n",
    "    bid_div = bid_soup.select('#print_area')[0]\n",
    "    bid_rows =  bid_div.select('tr')[1:-1]\n",
    "    for bid_row in bid_rows:\n",
    "        link = [tag['href'] for tag in bid_row.select('a')][0]\n",
    "        link_href = urlparse.urljoin('http://web.pcc.gov.tw/tps/pss/tender.do?searchMode=common&searchType=basic&method=search&isSpdt=&pageIndex=',link)\n",
    "        bid_file.write(link_href + '\\n')\n",
    "bid_file.close()"
   ]
  },
  {
   "cell_type": "code",
   "execution_count": null,
   "metadata": {
    "collapsed": true
   },
   "outputs": [],
   "source": [
    "#######抓取標案細節完整版\n",
    "from bs4 import BeautifulSoup\n",
    "import re, requests, time\n",
    "bid_list = open('bid_list.txt', 'r')\n",
    "###迴圈進入bid_list進行讀取\n",
    "for line in bid_list.readlines():\n",
    "###pagelink是每條網址,用strip()切斷\n",
    "    pagelink = line.strip()\n",
    "###m的功能用在group兩個PK----本ETL未使用可整行註解\n",
    "    m = re.match(r\"([^ ]+)&primaryKey=(?P<primaryKey>.+)\", pagelink)\n",
    "    filename = pagelink.split('primaryKey=')[1]\n",
    "    request_get = requests.get(pagelink)\n",
    "    response = request_get.text.encode('utf8')\n",
    "    soup = BeautifulSoup(response)\n",
    "    printarea = soup.select('#print_area')[0]\n",
    "    bid_detail = open('/Users/Gsr00001/Desktop/ETLhomework/{}.text'.format(filename),'w')\n",
    "    bid_detail.write(printarea.prettify().encode('utf-8'))\n",
    "###睡眠時間3用來閃避網頁判讀\n",
    "    time.sleep(3)\n",
    "    bid_detail.close()\n",
    "bid_list.close()"
   ]
  }
 ],
 "metadata": {
  "kernelspec": {
   "display_name": "Python 2",
   "language": "python",
   "name": "python2"
  },
  "language_info": {
   "codemirror_mode": {
    "name": "ipython",
    "version": 2
   },
   "file_extension": ".py",
   "mimetype": "text/x-python",
   "name": "python",
   "nbconvert_exporter": "python",
   "pygments_lexer": "ipython2",
   "version": "2.7.11"
  }
 },
 "nbformat": 4,
 "nbformat_minor": 0
}
